{
  "cells": [
    {
      "cell_type": "markdown",
      "metadata": {
        "id": "zBSQSDXkGghj"
      },
      "source": [
        "---\n",
        "# 💾 Drive\n",
        "---"
      ]
    },
    {
      "cell_type": "markdown",
      "source": [
        "This notebook essentially:\n",
        "* Reads a number of documents from RACE\n",
        "* Extracts a number of candidates to be answers from the text of the question according to some heuristics.\n",
        "\n",
        "The model for text-to-text generation used is a version fine-tuned for QA of [Google's T5](https://arxiv.org/pdf/1910.10683.pdf)."
      ],
      "metadata": {
        "id": "G7EtZ7O1Mdki"
      }
    },
    {
      "cell_type": "code",
      "execution_count": null,
      "metadata": {
        "id": "SGpCZJ9kFvZc"
      },
      "outputs": [],
      "source": [
        "from google.colab import drive\n",
        "drive.mount('/content/drive')"
      ]
    },
    {
      "cell_type": "markdown",
      "metadata": {
        "id": "EtZaoSvWGymB"
      },
      "source": [
        "---\n",
        "# 📚 Libraries\n",
        "---"
      ]
    },
    {
      "cell_type": "code",
      "execution_count": null,
      "metadata": {
        "id": "xmb4q1K2Jyww"
      },
      "outputs": [],
      "source": [
        "!pip install transformers\n",
        "!pip install datasets\n",
        "!pip install sentencepiece"
      ]
    },
    {
      "cell_type": "code",
      "execution_count": null,
      "metadata": {
        "id": "Cpk9LcGJMdvw"
      },
      "outputs": [],
      "source": [
        "import spacy \n",
        "import random \n",
        "import pandas as pd\n",
        "import json\n",
        "\n",
        "from datasets import load_dataset, Dataset\n",
        "from transformers import AutoModelWithLMHead, AutoTokenizer\n",
        "\n",
        "tokenizer = AutoTokenizer.from_pretrained(\"mrm8488/t5-base-finetuned-question-generation-ap\")\n",
        "model = AutoModelWithLMHead.from_pretrained(\"mrm8488/t5-base-finetuned-question-generation-ap\")\n",
        "SAVE_PATH_RACE = \"/content/drive/MyDrive/TFM/RACE_DATASET/race_extensions/first_poc/high/\""
      ]
    },
    {
      "cell_type": "code",
      "source": [
        "!python -m spacy download es_core_news_sm\n",
        "!python -m spacy download en_core_web_sm"
      ],
      "metadata": {
        "id": "3M5QCDwx_QsO"
      },
      "execution_count": null,
      "outputs": []
    },
    {
      "cell_type": "markdown",
      "metadata": {
        "id": "29tb_3GuaV71"
      },
      "source": [
        "---\n",
        "# 🔮 Models\n",
        "---"
      ]
    },
    {
      "cell_type": "markdown",
      "source": [
        "https://huggingface.co/mrm8488/t5-base-finetuned-question-generation-ap"
      ],
      "metadata": {
        "id": "9P5BDnAoKRLg"
      }
    },
    {
      "cell_type": "markdown",
      "source": [
        "### Common"
      ],
      "metadata": {
        "id": "bqXv1O54yQNW"
      }
    },
    {
      "cell_type": "code",
      "source": [
        "def get_question(answer, context, max_length=64):\n",
        "    input_text = \"answer: %s  context: %s </s>\" % (answer, context)\n",
        "    features = tokenizer([input_text], return_tensors='pt')\n",
        "\n",
        "    output = model.generate(input_ids=features['input_ids'], \n",
        "                attention_mask=features['attention_mask'],\n",
        "                max_length=max_length)\n",
        "\n",
        "    return tokenizer.decode(output[0]).replace(\"<pad> question: \" , \"\"). replace(\"</s>\", \"\")\n",
        "\n",
        "def generate_candidates(doc):\n",
        "    candidates = []\n",
        "    # Heuristic for selection\n",
        "    for token in doc:\n",
        "        if (token.pos_ == \"NOUN\"):\n",
        "          candidates.append(token.text)\n",
        "    return candidates\n",
        "\n",
        "def generate_candidates_sent(doc):\n",
        "    candidates = []\n",
        "    # Heuristic for selection\n",
        "    for sent in doc.sents:\n",
        "      candidates.append(str(sent))\n",
        "    return candidates\n",
        "\n",
        "def generate_distractors(answer, candidates):\n",
        "    candidates = [c for c in candidates if c != answer]\n",
        "    options = [answer, *random.sample(candidates, 3)]\n",
        "    random.shuffle(options)\n",
        "    return options\n"
      ],
      "metadata": {
        "id": "Hw9Runc4yUtJ"
      },
      "execution_count": null,
      "outputs": []
    },
    {
      "cell_type": "markdown",
      "source": [
        "### RACE"
      ],
      "metadata": {
        "id": "o0g1gWFByITi"
      }
    },
    {
      "cell_type": "code",
      "source": [
        "import os \n",
        "def process_doc_race(row, doc, questions_per_doc=2):\n",
        "  #Heuristic for answer generation\n",
        "  candidates = generate_candidates(doc)\n",
        "  random.shuffle(candidates)\n",
        "\n",
        "  new_docs = []\n",
        "  new_id = row[\"example_id\"].replace(\".txt\", \"\").replace(\"high\", \"\")\n",
        "  new_id = \"SYNT_\" + new_id + \".txt\"\n",
        "\n",
        "  new_docs = []\n",
        "\n",
        "  try:\n",
        "    for answer in candidates[:questions_per_doc]:\n",
        "      q = get_question(answer, doc)\n",
        "      # Heuristic for distractor generation\n",
        "      options = generate_distractors(answer, candidates)\n",
        "      new_docs.append({\n",
        "        'id': new_id,\n",
        "        'article': row[\"article\"],\n",
        "        'answer': [\"A\", \"B\", \"C\", \"D\"][options.index(answer)],\n",
        "        'question': q,\n",
        "        'options': options\n",
        "      })\n",
        "  except Exception as exc:\n",
        "    pass\n",
        "\n",
        "  return new_docs\n",
        "\n",
        "\n",
        "def generate_new_docs_race(example_ds, n_docs=5000, questions_per_doc=2, save=False):\n",
        "  new_docs = []\n",
        "  docs = list(nlp.pipe(example_ds[\"article\"]))\n",
        "  for i in range(0, n_docs):\n",
        "    print(f\"Generating {questions_per_doc} for {i} of {n_docs}\")\n",
        "    #row = example_ds.__getitem__((i+1) * 3)\n",
        "    row = example_ds.__getitem__(i)\n",
        "    new_docs.append(process_doc_race(row, docs[i], questions_per_doc=questions_per_doc))\n",
        "\n",
        "  new_docs = [item for sublist in new_docs for item in sublist]\n",
        "  print(f\"Generated {len(new_docs)}\")\n",
        "\n",
        "  if save is not None:\n",
        "    try:\n",
        "      with open(save, 'w') as f:\n",
        "        f.write(json.dumps(new_docs))\n",
        "    except Exception as exc:\n",
        "      print(exc)\n",
        "\n",
        "  return new_docs\n"
      ],
      "metadata": {
        "id": "NbqVL_dOyZoL"
      },
      "execution_count": null,
      "outputs": []
    },
    {
      "cell_type": "code",
      "source": [
        "example_ds.__getitem__((8+1) * 3)"
      ],
      "metadata": {
        "id": "J2haS3lfo4jf"
      },
      "execution_count": null,
      "outputs": []
    },
    {
      "cell_type": "markdown",
      "source": [
        "### EE"
      ],
      "metadata": {
        "id": "OoSbHiqYyLME"
      }
    },
    {
      "cell_type": "code",
      "source": [
        "nlp_es = spacy.load('es_core_news_sm')"
      ],
      "metadata": {
        "id": "ehnAQ7LhacMm"
      },
      "execution_count": null,
      "outputs": []
    },
    {
      "cell_type": "code",
      "source": [
        "exams_en_path = '/content/drive/MyDrive/TFM/EntranceExam/qa2015-exam-readingENGLISH.csv'\n",
        "exams_es_path = '/content/drive/MyDrive/TFM/EntranceExam/qa2015-exam-readingSPANISH.csv'\n",
        "nlp = spacy.load('en_core_web_sm')\n",
        "nlp_es = spacy.load('es_core_news_sm')\n"
      ],
      "metadata": {
        "id": "XPWAlvME-g5S"
      },
      "execution_count": null,
      "outputs": []
    },
    {
      "cell_type": "code",
      "execution_count": null,
      "metadata": {
        "id": "PrgD8qyXGdkL"
      },
      "outputs": [],
      "source": [
        "import pandas as pd\n",
        "\n",
        "\n",
        "exams_en_path = '/content/drive/MyDrive/TFM/EntranceExam/qa2015-exam-readingENGLISH.csv'\n",
        "exams_es_path = '/content/drive/MyDrive/TFM/EntranceExam/qa2015-exam-readingSPANISH.csv'\n",
        "nlp = spacy.load('en_core_web_sm')\n",
        "\n",
        "def generate_new_doc_ee_en(text_en, id, questions_per_doc=3):\n",
        "  doc = nlp(text_en)\n",
        "  new_docs = []\n",
        "  candidates = generate_candidates_sent(doc)\n",
        "  for q_id, answer in enumerate(candidates[:questions_per_doc]):\n",
        "    # Heuristic for distractor generation\n",
        "    options = generate_distractors(answer, candidates)\n",
        "    new_docs.append({\n",
        "      'id': f\"{id}_{q_id}\",\n",
        "      'article': str(doc),\n",
        "      'answer': [\"A\", \"B\", \"C\", \"D\"][options.index(answer)], \n",
        "      'question': get_question(answer, doc), \n",
        "      'options': options\n",
        "    })\n",
        "  print(f\"Generated {len(new_docs)} for id {id}\")\n",
        "  return new_docs\n",
        "\n",
        "def generate_new_docs_ee_en(df, n_docs=None, questions_per_doc=3, save=None):\n",
        "  new_docs = []\n",
        "  if n_docs is None:\n",
        "    n_docs = df.shape[0]\n",
        "\n",
        "  print(f\"Have to generate {n_docs*questions_per_doc}\")\n",
        "  for i in range(0, n_docs):\n",
        "    row = df.iloc[i,:]\n",
        "    new_docs.append(\n",
        "        generate_new_doc_ee_en(row[\"doc/__text\"], \n",
        "          i, questions_per_doc=questions_per_doc))\n",
        "  new_docs = [item for sublist in new_docs for item in sublist]\n",
        "\n",
        "  print(f\"Generated {len(new_docs)}\")\n",
        "  if save is not None:\n",
        "    try:\n",
        "      with open(save, 'w') as f:\n",
        "        f.write(json.dumps(new_docs))\n",
        "    except Exception as exc:\n",
        "      print(exc)\n",
        "  return new_docs"
      ]
    },
    {
      "cell_type": "markdown",
      "metadata": {
        "id": "FlCLgt69G-k3"
      },
      "source": [
        "---\n",
        "# 💀 Execution\n",
        "---"
      ]
    },
    {
      "cell_type": "markdown",
      "source": [
        "Extract `questions_per_doc` * `n_docs` tuples taking the form of (Q,A1,A2,A3,A4)  and write them to the `SAVE_PATH` specified above.\n",
        "\n",
        "Answers and distractors are provided by the `distractor_strategy` followed above.\n",
        "\n",
        "These can then be loaded by extending the data_loaders in the base model class previously developed or by merging it into one big folder with the original data.\n"
      ],
      "metadata": {
        "id": "-FVX1Bg0NBv8"
      }
    },
    {
      "cell_type": "markdown",
      "source": [
        "## EE"
      ],
      "metadata": {
        "id": "lPo-ZqYsi-fC"
      }
    },
    {
      "cell_type": "code",
      "source": [
        "exams_en_path"
      ],
      "metadata": {
        "id": "sXe_loynRSTE"
      },
      "execution_count": null,
      "outputs": []
    },
    {
      "cell_type": "markdown",
      "source": [
        "~190 texts are generated in 15min -> it's still very slow"
      ],
      "metadata": {
        "id": "YyICJPMRUtPd"
      }
    },
    {
      "cell_type": "code",
      "source": [],
      "metadata": {
        "id": "EB9dG9GVicl1"
      },
      "execution_count": null,
      "outputs": []
    },
    {
      "cell_type": "code",
      "source": [
        "SAVE_PATH_RACE = '/content/drive/MyDrive/TFM/RACE_DATASET/race_extensions/experiment3-sent.json'\n",
        "new_docs_race = generate_new_docs_race()"
      ],
      "metadata": {
        "id": "gkKZ-EtVex6j"
      },
      "execution_count": null,
      "outputs": []
    },
    {
      "cell_type": "code",
      "source": [
        "SAVE_PATH_EE = '/content/drive/MyDrive/TFM/EntranceExam/ee_cache_en/experiment3-sent.json'\n",
        "new_docs = generate_new_docs_ee_en(pd.read_csv(exams_en_path), questions_per_doc=100, save=SAVE_PATH_EE)"
      ],
      "metadata": {
        "id": "hka_pBdv7HvC"
      },
      "execution_count": null,
      "outputs": []
    },
    {
      "cell_type": "code",
      "source": [
        "generate_candidates_long(nlp(pd.read_csv(exams_en_path)[\"doc/__text\"][0]))"
      ],
      "metadata": {
        "id": "AE8Cse9Ge07V"
      },
      "execution_count": null,
      "outputs": []
    },
    {
      "cell_type": "code",
      "source": [
        "new_docs"
      ],
      "metadata": {
        "id": "mB1H9gAcAo7L"
      },
      "execution_count": null,
      "outputs": []
    },
    {
      "cell_type": "code",
      "source": [
        "datadir = '/content/drive/MyDrive/TFM/EntranceExam/rc-test-english-2013.json'\n",
        "pd.read_json(datadir)['data'].tolist()[0]"
      ],
      "metadata": {
        "id": "C62X4fx-COQV"
      },
      "execution_count": null,
      "outputs": []
    },
    {
      "cell_type": "markdown",
      "source": [
        "## RACE"
      ],
      "metadata": {
        "id": "ZqXWUlSK0mrd"
      }
    },
    {
      "cell_type": "code",
      "source": [
        "SAVE_PATH_RACE = \"/content/drive/MyDrive/TFM/RACE_DATASET/race_extensions/train_5k_words.json\"\n",
        "example_ds = Dataset.from_pandas(load_dataset('race', 'middle', split='train').to_pandas().head(5000)).sort('example_id')"
      ],
      "metadata": {
        "id": "ONYCmlUAjxqT"
      },
      "execution_count": null,
      "outputs": []
    },
    {
      "cell_type": "code",
      "source": [],
      "metadata": {
        "id": "suxL5w7gkKjW"
      },
      "execution_count": null,
      "outputs": []
    },
    {
      "cell_type": "code",
      "execution_count": null,
      "metadata": {
        "id": "m19Pb2jZiDIw"
      },
      "outputs": [],
      "source": [
        "new_docs = generate_new_docs_race(example_ds, n_docs=1000, questions_per_doc=5, save=SAVE_PATH_RACE)"
      ]
    },
    {
      "cell_type": "code",
      "source": [
        "%%timeit\n",
        "docs = list(nlp.pipe(example_ds[\"article\"][:100]))[1]"
      ],
      "metadata": {
        "id": "TuskCfhR_i8l"
      },
      "execution_count": null,
      "outputs": []
    },
    {
      "cell_type": "code",
      "source": [
        "import pandas as pd\n",
        "pd.read_json(open('/content/drive/MyDrive/TFM/EntranceExam/ee_cache_en/train_5k_sents.json'))[\"answer\"][3]"
      ],
      "metadata": {
        "id": "FE3RfoIqJPMV"
      },
      "execution_count": null,
      "outputs": []
    },
    {
      "cell_type": "code",
      "source": [
        "['place', 'family', 'trouble', 'newspaper']\n",
        "What kind of shopping did I do in town?"
      ],
      "metadata": {
        "id": "cMV8ijMwMIoA"
      },
      "execution_count": null,
      "outputs": []
    },
    {
      "cell_type": "markdown",
      "source": [
        "---\n",
        "# 🗺️ Exploration\n",
        "---"
      ],
      "metadata": {
        "id": "fPgpbo03kick"
      }
    },
    {
      "cell_type": "code",
      "source": [
        "df5krace = pd.read_json(\"/content/drive/MyDrive/TFM/RACE_DATASET/race_extensions/train_10k_sent.json\")"
      ],
      "metadata": {
        "id": "3gcZDGQwkkRl"
      },
      "execution_count": null,
      "outputs": []
    },
    {
      "cell_type": "code",
      "source": [
        "txt = df5krace.iloc[4995, :]['article'].replace('--', '').replace('\\n', ' ').replace(\"\\'\", '').replace('-', '')"
      ],
      "metadata": {
        "id": "CQYjv9Dur4bv"
      },
      "execution_count": null,
      "outputs": []
    },
    {
      "cell_type": "code",
      "source": [
        "df5krace['article'][0].replace('--', '').replace('\\n', ' ').replace(\"\\'\", '').replace('-', '').replace('1',''). replace('2', '')"
      ],
      "metadata": {
        "id": "BSSicWOjskW1"
      },
      "execution_count": null,
      "outputs": []
    },
    {
      "cell_type": "markdown",
      "source": [
        "## 🏎️ RACE"
      ],
      "metadata": {
        "id": "EyilKxq962--"
      }
    },
    {
      "cell_type": "code",
      "source": [
        "example_ds = Dataset.from_pandas(load_dataset('race', 'middle', split='train').to_pandas().head(5000)).sort('example_id')"
      ],
      "metadata": {
        "id": "Jy1c0irQd34b"
      },
      "execution_count": null,
      "outputs": []
    },
    {
      "cell_type": "code",
      "source": [
        "df = example_ds.to_pandas()\n",
        "txt = df.iloc[4004, :]['article'].replace('--', '').replace('\\n', ' ').replace(\"\\'\", \"'\").replace('-', '')\n",
        "\n",
        "df.iloc[4004, :]['answer']"
      ],
      "metadata": {
        "id": "tAsHUcRXeagS"
      },
      "execution_count": null,
      "outputs": []
    },
    {
      "cell_type": "code",
      "source": [
        "df.iloc[4004, :]['answer']"
      ],
      "metadata": {
        "id": "wqdKdkFQjJpH"
      },
      "execution_count": null,
      "outputs": []
    },
    {
      "cell_type": "code",
      "source": [
        "txt = df.iloc[4004, :]['article'].replace('--', '').replace('\\n', ' ').replace(\"\\'\", \"'\").replace('-', '')\n",
        "txt"
      ],
      "metadata": {
        "id": "qAO7Esj1gH50"
      },
      "execution_count": null,
      "outputs": []
    },
    {
      "cell_type": "markdown",
      "source": [
        "### RACE Example #1\n",
        "\n",
        "---\n",
        "\n",
        "Life is like the four seasons. Now I am very old, but when I was young, it was the spring of my life. After I was born, I played a lot, and then I started school. I learned many new things. Like a flower, I grew bigger every day. There were happy days and _ ldays: some days the sun shone, and some days it didn't. In my twenties, I had a good job. I was strong and happy. Then I married and had a child. In those days, I didn't have much time to think. Every day I was busy and worked very hard. And so, I started to get some white hairs. The summer of my life passed quickly. Then the days got shorter. Leaves fell from the trees. My child was a university student, and then an engineer. My home was much quieter. I started walking more slowly. One day I stopped working. I had more time. I understood this was my autumn, a beautiful time when the trees change color and give us delicious fruits. But the days kept getting shorter and colder. Winter has come. I am older and weaker. I know I do not have many days left, but I will enjoy them to the end.\n",
        "\n",
        "---\n",
        "\n",
        "According to the passage, which of the following ages is during the summer of his life?\n",
        "* 15\n",
        "* 33\n",
        "* 62\n",
        "* 87\n",
        "\n",
        "Answer: B"
      ],
      "metadata": {
        "id": "0HJJQwTmdujh"
      }
    },
    {
      "cell_type": "markdown",
      "source": [
        "### RACE Example #2\n",
        "\n",
        "---\n",
        "\n",
        "There's always something deep in our soul that never dies. I moved to the small, busy town of Edison in New Jersey six years ago. It was during the second term of my fifth grade. My parents got new jobs and higher income, so they decided it was time to move from Woodbridge to a better, more educational town. In the US, it is unnecessary to take a test to get into a \"good\" middle or high school. You just attend the school close to where you live. So, many parents will think about the quality of the local school when they decide to buy a new house. My parents did the same. We finally chose Edison mainly because of the high quality of its school. In New Jersey, an area with a good school usually means Asian people. There are about 300 students in our school. 55% are Asians and just under half of that are Chinese. There are so many Chinese people nearby that we even have our own Chinese school. Edison is an old town, just like thousands of others in the United States. However, I have treated it as my hometown. That's where I spend much of my youth, and the memories there can't be moved at all\n",
        "\n",
        "---\n",
        "\n",
        "#### QA Set 1\n",
        "Why did the writer's parents move to Edison?\n",
        "\n",
        "* Because they were born there\n",
        "* Because the writer began his fifth grade\n",
        "* Because it was a better educational town\n",
        "* Because the writer didn't need to take a test\n",
        "\n",
        "Answer: C"
      ],
      "metadata": {
        "id": "TtJV5_YNhzaR"
      }
    },
    {
      "cell_type": "markdown",
      "source": [
        "### RACE QA Generation Examples\n",
        "\n",
        "---\n",
        "Mike gets up at half past seven. He has an egg and some milk for breakfast. Then he goes to school. When he is on his way to school, he is thinking, \" I tell my teacher that my mother is ill on  Monday. I tell him my bike doesnt work on my way to school on Tuesday. What should I say  today? Mike thinks it over, but he doesnt have a good idea. \"May I come in?\" says Mike at the  door. \"Oh, my boy,\" says Mr. Brown. \"Please look at the clock on the wall. What time is it now?\" \"Its eight ten,\" says Mike. Mr. Brown is not happy and says, \"You are late for class three times this week. If all the students are like you, the clock is no use, I think.\" \" You are wrong, Mr. Brown,\" says Mike. \"If I dont have the clock how do I know I am late for school?\"\n",
        "\n",
        "---\n",
        "#### QA Set 1\n",
        "* Candidate extracted: clock\n",
        "* Question Generated: What is on the wall at the school?\n",
        "* Options: Mike, way, egg, clock\n",
        "* Answer: D\n",
        "\n",
        "#### QA Set 2\n",
        "* Candidate extracted: school\n",
        "* Question Generated: Where does Mike go after breakfast?\n",
        "* Options: school, boy, breakfast, wall\n",
        "* Answer: A\n",
        "\n",
        "#### QA Set 3\n",
        "* Candidate stracted: idea\n",
        "* Question generated: What doesn't Mike have?\n",
        "* Options: school, students, idea, boy\n",
        "* Answer: C\n",
        "---"
      ],
      "metadata": {
        "id": "B_5AhoE4s_gx"
      }
    },
    {
      "cell_type": "code",
      "source": [
        "df5krace['options'][1]"
      ],
      "metadata": {
        "id": "R4LLXJXhy-0f"
      },
      "execution_count": null,
      "outputs": []
    },
    {
      "cell_type": "markdown",
      "source": [
        "### RACE QA Generation Examples II\n",
        "\n",
        "---\n",
        "Pit-a-pat. Pit-a-pat. It's raining. \"I want to go outside and play, Mum,\" Robbie says, \"When can the rain stop?\" His mum doesnt know what to say. She hopes the rain can stop, too. \"You can watch TV with me,\" she says. \"No, I just want to go outside.\" \"Put on your raincoat.\" \"Does it stop raining?\" \"No, but you can go outside and play in the rain. Do you like that?\" \"Yes, mum.\" He runs to his bedroom and puts on his red raincoat. \"Here you go. Go outside and play.\" Mum opens the door and says. Robbie runs into the rain. Water goes here and there. Robbies mum watches her son. He is having so much fun. \"Mum, come and play with me!\" Robbie calls. The door opens and his mum walks out. She is in her yellow raincoat. Mother and son are out in the rain for a long time. They play all kinds of games in the rain.\n",
        "\n",
        "---\n",
        "#### QA Set 1\n",
        "* Candidate extracted: He runs to his bedroom and puts on his red raincoat\n",
        "* Question Generated: What does Robbie do before going outside?\n",
        "\n",
        "* Options: \n",
        "  * Mum opens the door.\n",
        "  * He runs to his bedroom and puts on his red raincoat.\n",
        "  * You can go outside and play in the rain.\n",
        "  * He is having so much fun.\n",
        "\n",
        "* Answer: B\n",
        "---\n",
        "#### QA Set 2\n",
        "* Candidate extracted: Here you go. Go outside and play.\n",
        "* Question Generated: What does Robbie's mum say?\n",
        "* Options: \n",
        "  * Pit-a-pat. Pit-a-pat.\n",
        "  * Robbie runs into the rain.\n",
        "  * Here you go. Go outside and play.\n",
        "  * Mum, come and play with me!\n",
        "\n",
        "* Answer: C\n",
        "---"
      ],
      "metadata": {
        "id": "GO529jj1yz46"
      }
    },
    {
      "cell_type": "markdown",
      "source": [
        "## 💯 EE"
      ],
      "metadata": {
        "id": "8OB31NT468Aq"
      }
    },
    {
      "cell_type": "code",
      "source": [
        "SAVE_PATH_EE = '/content/drive/MyDrive/TFM/EntranceExam/ee_cache_en/experiment2-sent.json'\n",
        "eee = pd.read_json(SAVE_PATH_EE)"
      ],
      "metadata": {
        "id": "ac198_MP8_Jp"
      },
      "execution_count": null,
      "outputs": []
    },
    {
      "cell_type": "code",
      "source": [
        "eee['options'][5]"
      ],
      "metadata": {
        "id": "mOobEgeT_MWD"
      },
      "execution_count": null,
      "outputs": []
    },
    {
      "cell_type": "code",
      "source": [
        "eeee = pd.read_csv('/content/drive/MyDrive/TFM/EntranceExam/qa2015-exam-readingENGLISH.csv')\n",
        "eeee.iloc[0,:]"
      ],
      "metadata": {
        "id": "Kk2ggMMik8Lp"
      },
      "execution_count": null,
      "outputs": []
    },
    {
      "cell_type": "code",
      "source": [
        "dfff = eeee[[col for col in eeee.columns if col.startswith('question/0')]]"
      ],
      "metadata": {
        "id": "QugGEPGjlHsw"
      },
      "execution_count": null,
      "outputs": []
    },
    {
      "cell_type": "code",
      "source": [
        "dfff['question/0/answer/0/_a_id'][1]"
      ],
      "metadata": {
        "id": "GthDGKill2ea"
      },
      "execution_count": null,
      "outputs": []
    },
    {
      "cell_type": "markdown",
      "source": [
        "### EntranceExams Example\n",
        "\n",
        "---\n",
        "\n",
        "About fifteen hundred years ago the Japanese imported many aspects of Chinese culture: the writing system, political institutions, and perhaps most important, Buddhism. Buddhist priests were expected to eat only vegetables, and tofu, made from the soybean, was a very important food in their diet. When Buddhism was introduced from China, tofu was also brought to Japan. Tofu developed in different ways in China and Japan. While the Chinese often changed the taste of tofu by mixing it with strongly-flavored vegetables or meat, the Japanese preferred to eat it using only a simple sauce. Even now, traditional Japanese cooking preserves the original delicacy of tofu, though the way it is served may change from season to season. In summer, for example, it is simply served cold, while in winter it is often eaten as part of a hot dish. The soybean was introduced to the West in the eighteenth century, but little interest was taken in it; only scientists recognized its high food value. During the Second World War, when meat was in short supply, the U.S. government encouraged the American people to eat soybean products. However, they never became very popular and, after the war, interest in them dropped off as the supply of meat became plentiful again. In recent years, people in the West have become increasingly aware of the dangers of eating too much animal fat, and as a result, they have turned more and more to soybean products. This is mainly because the soybean provides almost the same food value as meat, and in addition is a lot more healthful. Much of the margarine, salad oil, and cooking oil in daily use is now produced from soybean oil. Tofu, a representative soybean product and originally one of the main foods in the diet of Chinese priests, is considered to be one of the healthiest foods available to man.\n",
        "\n",
        "---\n",
        "\n",
        "Tofu came to Japan together with Buddhism, because\n",
        "\n",
        "* Buddhist priests ate tofu rather than vegetables.\n",
        "* it was a very important food in the diet of Buddhist priests.\n",
        "* the religion came to Japan together with political institutions.\n",
        "* the religion was the most important aspect of Chinese culture.\n",
        "\n",
        "Answer: B"
      ],
      "metadata": {
        "id": "HInpiTXMlK6u"
      }
    },
    {
      "cell_type": "markdown",
      "source": [
        "### EntranceExams Question Generation Example\n",
        "\n",
        "---\n",
        "\n",
        "My husband hasnt stopped laughing about a funny thing that happened to me. Its funny now but it wasnt at the time. Last Friday, after doing all the family shopping in town, I wanted a rest before catching the train, so I bought a newspaper and some chocolate and went into the station coffee shop  that cheap, selfservice place with long tables to sit at. I put my heavy bag down on the floor, put the newspaper and chocolate on the table to keep a place, and went to get a cup of coffee. When I came back with the coffee, there was someone in the next seat. It was one of those wildlooking youngsters, with dark glasses and torn clothes, and hair colored bright red at the front. Not so unusual these days. What did surprise me was that hed started to eat my chocolate! Naturally, I was annoyed. However, to avoid trouble  and really I was rather uneasy about him  I just looked down at the front page of the newspaper, tasted my coffee, and took a bit of chocolate. The boy looked at me closely. Then he took a second piece of my chocolate. I could hardly believe it. Still I didnt dare to start an argument. When he took a third piece, I felt more angry than uneasy. I thought, \"Well, I shall have the last piece,\" and I got it. The boy gave me a strange look, then stood up. As he left he shouted out, \"This womans crazy!\" Everyone stared. That was embarrassing enough, but it was worse when I finished my coffee and got ready to leave. My face went red  as red as his hair  when I realized Id made a mistake. It wasnt my chocolate that hed been taking. There was mine, unopened, just under my newspaper.\n",
        "\n",
        "---\n",
        "\n",
        "#### QA Example 1 - Strategy I\n",
        "* Candidate extracted: husband\n",
        "* Question Generated: Who laughed at the funny thing that happened to me?\n",
        "* Options: coffee, chocolate, glasses, husband\n",
        "* Answer: D\n",
        "\n",
        "#### QA Example 2 - Strategy I\n",
        "* Candidate extracted: thing\n",
        "* Question Generated: What did my husband laugh about?\n",
        "* Options: time, seat, thing, chocolate\n",
        "\n",
        "* Answer: C\n",
        "\n",
        "#### QA Example 3 - Strategy II\n",
        "* Candidate extracted: As he left he shouted out, \"This woman's crazy!\"\n",
        "* Question Generated: What happened to the person who was in the next seat?\n",
        "* Options:\n",
        "  * Not so unusual these days.\n",
        "  * When I came back with the coffee, there was someone in the next seat.\n",
        "  * I thought, \"Well, I shall have the last piece,\" and I got it.'\n",
        "  * As he left he shouted out, \"This woman's crazy!\"\n",
        "* Answer: D\n"
      ],
      "metadata": {
        "id": "PXykYZ6Q96eZ"
      }
    }
  ],
  "metadata": {
    "colab": {
      "collapsed_sections": [
        "zBSQSDXkGghj",
        "EtZaoSvWGymB",
        "29tb_3GuaV71",
        "bqXv1O54yQNW",
        "o0g1gWFByITi",
        "FlCLgt69G-k3",
        "fPgpbo03kick"
      ],
      "provenance": []
    },
    "kernelspec": {
      "display_name": "Python 3",
      "name": "python3"
    },
    "language_info": {
      "name": "python"
    }
  },
  "nbformat": 4,
  "nbformat_minor": 0
}